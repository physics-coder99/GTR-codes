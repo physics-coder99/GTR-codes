{
 "cells": [
  {
   "cell_type": "code",
   "execution_count": 1,
   "metadata": {},
   "outputs": [],
   "source": [
    "import sympy as SY \n",
    "import numpy as np \n",
    "import matplotlib.pyplot as plt \n",
    "#from sympy.abc import *\n",
    "#from sympy.parsing.sympy_parser import parse_expr\n",
    "SY.init_printing()"
   ]
  },
  {
   "cell_type": "code",
   "execution_count": 2,
   "metadata": {},
   "outputs": [],
   "source": [
    "D = SY.diff\n",
    "\n",
    "# determining the co-ordinates\n",
    "def get_co_ords(metric:SY.core.add.Add):\n",
    "    d = SY.Function('d')\n",
    "    ind = {list(i.atoms())[0]:i \n",
    "           for i in list(metric.atoms(d))}\n",
    "    return list(ind.keys())\n",
    "\n",
    "# sorting the symbols in order\n",
    "def sym_qsort(arr:list[\"symbols\"]):\n",
    "    if len(arr) > 1:\n",
    "        left , right = [],[]\n",
    "        for i in arr :\n",
    "            if i.compare(arr[0]) == 1:\n",
    "                right.append(i)\n",
    "            elif i.compare(arr[0]) == -1:\n",
    "                left.append(i)\n",
    "        return sym_qsort(left)+[arr[0]]+sym_qsort(right)\n",
    "    else :\n",
    "        return arr\n",
    "\n",
    "# creating the covariant metric tensor\n",
    "def mtr_tns(mtr:SY.core.add.Add, dims:list[\"symbols\"]):\n",
    "    d = SY.Function('d')\n",
    "    m = [[D(mtr, d(i),2)/2 if i==j \n",
    "         else D(mtr, d(i),d(j)) \n",
    "         for i in dims] for j in dims]\n",
    "    return m\n",
    "\n",
    "# calculating the Christoffel symbol components\n",
    "def christ_i_jk(cov:\"SY.Matrix\",con :\"SY.Matrix\",\n",
    "                X :list['symbols'],\n",
    "               i : int, j:int, k:int):\n",
    "    cov = SY.matrix2numpy(cov)\n",
    "    con = SY.matrix2numpy(con)\n",
    "    c = [con[i,m]*(D(cov[m,j],X[k]) + D(cov[m,k],X[j])\n",
    "                     - D(cov[k,j],X[m]))/2 \n",
    "                    for m in range(len(X))]\n",
    "    return sum(c)\n",
    "\n",
    "# calculating  the full Christoffel symbol matrix\n",
    "def Christoffel(cov: 'SY.Matrix', con:'SY.Matrix',\n",
    "                co_ord:list['symbols']):\n",
    "    c = [[[christ_i_jk(cov,con,co_ord,i,j,k)\n",
    "            for k in range(len(co_ord))]\n",
    "            for j in range(len(co_ord))]\n",
    "            for i in range(len(co_ord))]\n",
    "    return c\n",
    "\n",
    "# calculating the Riemann curvature tensor components\n",
    "def R_i_jkl(i:int, j:int, k:int, l:int,\n",
    "             crist:list['symbols'], X:list['symbols']):\n",
    "    r = sum([crist[i][k][m]*crist[m][j][l] - \n",
    "             crist[i][l][m]*crist[m][k][j] \n",
    "             for m in range(len(X))])\n",
    "    return D(crist[i][j][l], X[k]) - D(crist[i][j][k], X[l]) + r\n",
    "\n",
    "#  calculating the Riemann curvature tensor\n",
    "def Riemann_tensor(crist:list[list[list['symbols']]],\n",
    "                   co_ord:list['symbols']):\n",
    "    r = [[[[R_i_jkl(i,j,k,l,crist,co_ord)\n",
    "            for l in range(len(co_ord))]\n",
    "            for k in range(len(co_ord))]\n",
    "            for j in range(len(co_ord))]\n",
    "            for i in range(len(co_ord))]\n",
    "    return r\n",
    "\n",
    "# calculating parallel transport of a vector\n",
    "def par_trans(crist: list[list[list['symbols']]],\n",
    "              co_ord:list['symbols'],\n",
    "             A:list['symbols']=None):\n",
    "    d = SY.Function('d')\n",
    "    if A is None:\n",
    "        A = [SY.Symbol(f'A^{i}')\n",
    "              for i in range(len(co_ord))]\n",
    "    pts = [sum([crist[i][j][k]*A[j]*d(co_ord[k]) \n",
    "           for k in range(len(co_ord))\n",
    "           for j in range(len(co_ord))])\n",
    "           for  i in range(len(crist))]\n",
    "    return pts\n",
    "\n",
    "# calculating geodesic equations\n",
    "def geodesics(crist:list[list[list['symbols']]],\n",
    "             co_ord:list['symbols'],\n",
    "             s:'SY.Symbol'= SY.Symbol('s')):\n",
    "    Der = SY.Derivative\n",
    "    eqs = [SY.Eq( Der(co_ord[i],s,2) + \n",
    "                sum([crist[i][j][k]*Der(co_ord[j],s)*Der(co_ord[k],s)\n",
    "                    for k in range(len(co_ord))\n",
    "                    for j in range(len(co_ord))]), 0)\n",
    "                    for i in range(len(co_ord))]\n",
    "    return eqs\n"
   ]
  },
  {
   "cell_type": "code",
   "execution_count": 3,
   "metadata": {},
   "outputs": [
    {
     "data": {
      "image/png": "[encoded data removed]",
      "text/latex": [
       "$\\displaystyle r^{2} d^{2}{\\left(\\theta \\right)} + d^{2}{\\left(r \\right)}$"
      ],
      "text/plain": [
       " 2  2       2   \n",
       "r ⋅d (θ) + d (r)"
      ]
     },
     "execution_count": 3,
     "metadata": {},
     "output_type": "execute_result"
    }
   ],
   "source": [
    "#metric in 3d spherical\n",
    "#metric = SY.sympify('''d(r)**2 + r**2*d(theta)**2 +\n",
    "#                      (r*sin(theta))**2*d(phi)**2''')\n",
    "\n",
    "#metric in 4d cartesian\n",
    "metric = SY.sympify(\"r**2*d(theta)**2 +d(r)**2\")\n",
    "metric"
   ]
  },
  {
   "cell_type": "code",
   "execution_count": 4,
   "metadata": {},
   "outputs": [
    {
     "data": {
      "image/png": "[encoded data removed]",
      "text/latex": [
       "$\\displaystyle \\left( 2, \\  \\left[ r, \\  \\theta\\right]\\right)$"
      ],
      "text/plain": [
       "(2, [r, θ])"
      ]
     },
     "execution_count": 4,
     "metadata": {},
     "output_type": "execute_result"
    }
   ],
   "source": [
    "var = sym_qsort(get_co_ords(metric)) # final order of co-ordinates\n",
    "n = len(var) # no. of co-ordinates\n",
    "n, var"
   ]
  },
  {
   "cell_type": "code",
   "execution_count": 5,
   "metadata": {},
   "outputs": [
    {
     "data": {
      "image/png": "[encoded data removed]",
      "text/latex": [
       "$\\displaystyle \\left[\\begin{matrix}1 & 0\\\\0 & r^{2}\\end{matrix}\\right]$"
      ],
      "text/plain": [
       "⎡1  0 ⎤\n",
       "⎢     ⎥\n",
       "⎢    2⎥\n",
       "⎣0  r ⎦"
      ]
     },
     "execution_count": 5,
     "metadata": {},
     "output_type": "execute_result"
    }
   ],
   "source": [
    "# creating the covariant metric tensor\n",
    "g_cov = SY.Matrix(mtr_tns(metric, var))\n",
    "g_cov"
   ]
  },
  {
   "cell_type": "code",
   "execution_count": 6,
   "metadata": {},
   "outputs": [
    {
     "data": {
      "image/png": "[encoded data removed]",
      "text/latex": [
       "$\\displaystyle r^{2}$"
      ],
      "text/plain": [
       " 2\n",
       "r "
      ]
     },
     "execution_count": 6,
     "metadata": {},
     "output_type": "execute_result"
    }
   ],
   "source": [
    "# calculating the determinant of covariant metric\n",
    "g = SY.det(g_cov)\n",
    "g"
   ]
  },
  {
   "cell_type": "code",
   "execution_count": 7,
   "metadata": {},
   "outputs": [
    {
     "data": {
      "image/png": "[encoded data removed]",
      "text/latex": [
       "$\\displaystyle \\left[\\begin{matrix}1 & 0\\\\0 & \\frac{1}{r^{2}}\\end{matrix}\\right]$"
      ],
      "text/plain": [
       "⎡1  0 ⎤\n",
       "⎢     ⎥\n",
       "⎢   1 ⎥\n",
       "⎢0  ──⎥\n",
       "⎢    2⎥\n",
       "⎣   r ⎦"
      ]
     },
     "execution_count": 7,
     "metadata": {},
     "output_type": "execute_result"
    }
   ],
   "source": [
    "# creating the contravariant metric tensor\n",
    "g_con = SY.Inverse(g_cov).doit()\n",
    "g_con"
   ]
  },
  {
   "cell_type": "code",
   "execution_count": 8,
   "metadata": {},
   "outputs": [
    {
     "data": {
      "image/png": "[encoded data removed]",
      "text/latex": [
       "$\\displaystyle \\left[\\begin{matrix}1 & 0\\\\0 & 1\\end{matrix}\\right]$"
      ],
      "text/plain": [
       "⎡1  0⎤\n",
       "⎢    ⎥\n",
       "⎣0  1⎦"
      ]
     },
     "execution_count": 8,
     "metadata": {},
     "output_type": "execute_result"
    }
   ],
   "source": [
    "# showing the conjugacy of metric tensors\n",
    "g_con * g_cov"
   ]
  },
  {
   "cell_type": "code",
   "execution_count": 9,
   "metadata": {},
   "outputs": [
    {
     "data": {
      "image/png": "[encoded data removed]",
      "text/latex": [
       "$\\displaystyle \\left[ \\left[ \\left[ 0, \\  0\\right], \\  \\left[ 0, \\  - r\\right]\\right], \\  \\left[ \\left[ 0, \\  \\frac{1}{r}\\right], \\  \\left[ \\frac{1}{r}, \\  0\\right]\\right]\\right]$"
      ],
      "text/plain": [
       "⎡                   ⎡⎡   1⎤  ⎡1   ⎤⎤⎤\n",
       "⎢[[0, 0], [0, -r]], ⎢⎢0, ─⎥, ⎢─, 0⎥⎥⎥\n",
       "⎣                   ⎣⎣   r⎦  ⎣r   ⎦⎦⎦"
      ]
     },
     "execution_count": 9,
     "metadata": {},
     "output_type": "execute_result"
    }
   ],
   "source": [
    "# creating the christoffel symbols\n",
    "christ = Christoffel(g_cov,g_con,var)\n",
    "christ"
   ]
  },
  {
   "cell_type": "code",
   "execution_count": 10,
   "metadata": {},
   "outputs": [
    {
     "data": {
      "image/png": "[encoded data removed]",
      "text/latex": [
       "$\\displaystyle \\left[ \\left[ \\left[ \\left[ 0, \\  0\\right], \\  \\left[ 0, \\  0\\right]\\right], \\  \\left[ \\left[ 0, \\  0\\right], \\  \\left[ 0, \\  0\\right]\\right]\\right], \\  \\left[ \\left[ \\left[ 0, \\  0\\right], \\  \\left[ 0, \\  0\\right]\\right], \\  \\left[ \\left[ 0, \\  0\\right], \\  \\left[ 0, \\  0\\right]\\right]\\right]\\right]$"
      ],
      "text/plain": [
       "[[[[0, 0], [0, 0]], [[0, 0], [0, 0]]], [[[0, 0], [0, 0]], [[0, 0], [0, 0]]]]"
      ]
     },
     "execution_count": 10,
     "metadata": {},
     "output_type": "execute_result"
    }
   ],
   "source": [
    "# creating the riemann curvature tensor\n",
    "Rieman = Riemann_tensor(christ, var)\n",
    "# printing the curvature tensor\n",
    "Rieman"
   ]
  },
  {
   "cell_type": "code",
   "execution_count": 11,
   "metadata": {},
   "outputs": [
    {
     "data": {
      "image/png": "[encoded data removed]",
      "text/latex": [
       "$\\displaystyle \\left[ - A^{1} r d{\\left(\\theta \\right)}, \\  \\frac{A^{0} d{\\left(\\theta \\right)}}{r} + \\frac{A^{1} d{\\left(r \\right)}}{r}\\right]$"
      ],
      "text/plain": [
       "⎡            A⁰⋅d(θ)   A¹⋅d(r)⎤\n",
       "⎢-A¹⋅r⋅d(θ), ─────── + ───────⎥\n",
       "⎣               r         r   ⎦"
      ]
     },
     "execution_count": 11,
     "metadata": {},
     "output_type": "execute_result"
    }
   ],
   "source": [
    "par_trans(christ, var)"
   ]
  },
  {
   "cell_type": "code",
   "execution_count": 12,
   "metadata": {},
   "outputs": [
    {
     "data": {
      "image/png": "[encoded data removed]",
      "text/latex": [
       "$\\displaystyle \\left[ - r \\left(\\frac{d}{d s} \\theta\\right)^{2} + \\frac{d^{2}}{d s^{2}} r = 0, \\  \\frac{d^{2}}{d s^{2}} \\theta + \\frac{2 \\frac{d}{d s} r \\frac{d}{d s} \\theta}{r} = 0\\right]$"
      ],
      "text/plain": [
       "⎡                                      d     d        ⎤\n",
       "⎢           2     2           2      2⋅──(r)⋅──(θ)    ⎥\n",
       "⎢    ⎛d    ⎞     d           d         ds    ds       ⎥\n",
       "⎢- r⋅⎜──(θ)⎟  + ───(r) = 0, ───(θ) + ───────────── = 0⎥\n",
       "⎢    ⎝ds   ⎠      2           2            r          ⎥\n",
       "⎣               ds          ds                        ⎦"
      ]
     },
     "execution_count": 12,
     "metadata": {},
     "output_type": "execute_result"
    }
   ],
   "source": [
    "G = geodesics(christ, var)\n",
    "G"
   ]
  },
  {
   "cell_type": "code",
   "execution_count": 1,
   "metadata": {},
   "outputs": [],
   "source": [
    "import sympy as SY \n",
    "import numpy as np \n",
    "import matplotlib.pyplot as plt\n",
    "SY.init_printing()\n",
    "from GTR_script import GTR"
   ]
  },
  {
   "cell_type": "code",
   "execution_count": 2,
   "metadata": {},
   "outputs": [],
   "source": [
    "gtr = GTR('d(x)**2 + (sin(x)*d(t))**2')"
   ]
  },
  {
   "cell_type": "code",
   "execution_count": 4,
   "metadata": {},
   "outputs": [
    {
     "data": {
      "text/plain": [
       "int"
      ]
     },
     "execution_count": 4,
     "metadata": {},
     "output_type": "execute_result"
    }
   ],
   "source": [
    "type(gtr.dimension)"
   ]
  },
  {
   "cell_type": "code",
   "execution_count": 9,
   "metadata": {},
   "outputs": [
    {
     "data": {
      "text/plain": [
       "sympy.core.numbers.Zero"
      ]
     },
     "execution_count": 9,
     "metadata": {},
     "output_type": "execute_result"
    }
   ],
   "source": [
    "type(gtr.rieman[0][0][0][0])"
   ]
  },
  {
   "cell_type": "code",
   "execution_count": 30,
   "metadata": {},
   "outputs": [
    {
     "data": {
      "text/plain": [
       "list"
      ]
     },
     "execution_count": 30,
     "metadata": {},
     "output_type": "execute_result"
    }
   ],
   "source": [
    "type(gtr.christ)"
   ]
  },
  {
   "cell_type": "code",
   "execution_count": 3,
   "metadata": {},
   "outputs": [
    {
     "data": {
      "image/png": "[encoded data removed]",
      "text/latex": [
       "$\\displaystyle \\left[ \\left[ \\sin^{2}{\\left(x \\right)}, \\  0\\right], \\  \\left[ 0, \\  1\\right]\\right]$"
      ],
      "text/plain": [
       "⎡⎡   2      ⎤        ⎤\n",
       "⎣⎣sin (x), 0⎦, [0, 1]⎦"
      ]
     },
     "execution_count": 3,
     "metadata": {},
     "output_type": "execute_result"
    }
   ],
   "source": [
    "gtr.Ricci"
   ]
  },
  {
   "cell_type": "code",
   "execution_count": 4,
   "metadata": {},
   "outputs": [
    {
     "data": {
      "image/png": "[encoded data removed]",
      "text/latex": [
       "$\\displaystyle \\left[\\begin{matrix}\\frac{1}{\\sin^{2}{\\left(x \\right)}} & 0\\\\0 & 1\\end{matrix}\\right]$"
      ],
      "text/plain": [
       "⎡   1      ⎤\n",
       "⎢───────  0⎥\n",
       "⎢   2      ⎥\n",
       "⎢sin (x)   ⎥\n",
       "⎢          ⎥\n",
       "⎣   0     1⎦"
      ]
     },
     "execution_count": 4,
     "metadata": {},
     "output_type": "execute_result"
    }
   ],
   "source": [
    "gtr.g_con"
   ]
  },
  {
   "cell_type": "code",
   "execution_count": 5,
   "metadata": {},
   "outputs": [
    {
     "data": {
      "image/png": "[encoded data removed]",
      "text/latex": [
       "$\\displaystyle 2$"
      ],
      "text/plain": [
       "2"
      ]
     },
     "execution_count": 5,
     "metadata": {},
     "output_type": "execute_result"
    }
   ],
   "source": [
    "gtr.R"
   ]
  },
  {
   "cell_type": "code",
   "execution_count": null,
   "metadata": {},
   "outputs": [],
   "source": []
  }
 ],
 "metadata": {
  "kernelspec": {
   "display_name": "Python 3",
   "language": "python",
   "name": "python3"
  },
  "language_info": {
   "codemirror_mode": {
    "name": "ipython",
    "version": 3
   },
   "file_extension": ".py",
   "mimetype": "text/x-python",
   "name": "python",
   "nbconvert_exporter": "python",
   "pygments_lexer": "ipython3",
   "version": "3.11.4"
  }
 },
 "nbformat": 4,
 "nbformat_minor": 2
}
