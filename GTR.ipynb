{
 "cells": [
  {
   "cell_type": "code",
   "execution_count": null,
   "metadata": {},
   "outputs": [],
   "source": [
    "import sympy as SY \n",
    "import numpy as np \n",
    "import matplotlib.pyplot as plt \n",
    "#from sympy.abc import *\n",
    "#from sympy.parsing.sympy_parser import parse_expr\n",
    "SY.init_printing()"
   ]
  },
  {
   "cell_type": "code",
   "execution_count": null,
   "metadata": {},
   "outputs": [],
   "source": [
    "D = SY.diff\n",
    "\n",
    "# determining the co-ordinates\n",
    "def get_co_ords(metric:SY.core.add.Add):\n",
    "    d = SY.Function('d')\n",
    "    ind = {list(i.atoms())[0]:i \n",
    "           for i in list(metric.atoms(d))}\n",
    "    return list(ind.keys())\n",
    "\n",
    "# sorting the symbols in order\n",
    "def sym_qsort(arr:list[\"symbols\"]):\n",
    "    if len(arr) > 1:\n",
    "        left , right = [],[]\n",
    "        for i in arr :\n",
    "            if i.compare(arr[0]) == 1:\n",
    "                right.append(i)\n",
    "            elif i.compare(arr[0]) == -1:\n",
    "                left.append(i)\n",
    "        return sym_qsort(left)+[arr[0]]+sym_qsort(right)\n",
    "    else :\n",
    "        return arr\n",
    "\n",
    "# creating the covariant metric tensor\n",
    "def mtr_tns(mtr:SY.core.add.Add, dims:list[\"symbols\"]):\n",
    "    d = SY.Function('d')\n",
    "    m = [[D(mtr, d(i),2)/2 if i==j \n",
    "         else D(mtr, d(i),d(j)) \n",
    "         for i in dims] for j in dims]\n",
    "    return m\n",
    "\n",
    "# calculating the Christoffel symbol components\n",
    "def christ_i_jk(cov:\"SY.Matrix\",con :\"SY.Matrix\",\n",
    "                X :list['symbols'],\n",
    "               i : int, j:int, k:int):\n",
    "    cov = SY.matrix2numpy(cov)\n",
    "    con = SY.matrix2numpy(con)\n",
    "    c = [con[i,m]*(D(cov[m,j],X[k]) + D(cov[m,k],X[j])\n",
    "                     - D(cov[k,j],X[m]))/2 \n",
    "                    for m in range(len(X))]\n",
    "    return sum(c)\n",
    "\n",
    "# calculating  the full Christoffel symbol matrix\n",
    "def Christoffel(cov: 'SY.Matrix', con:'SY.Matrix',\n",
    "                co_ord:list['symbols']):\n",
    "    c = [[[christ_i_jk(cov,con,co_ord,i,j,k)\n",
    "            for k in range(len(co_ord))]\n",
    "            for j in range(len(co_ord))]\n",
    "            for i in range(len(co_ord))]\n",
    "    return c\n",
    "\n",
    "# calculating the Riemann curvature tensor components\n",
    "def R_i_jkl(i:int, j:int, k:int, l:int,\n",
    "             crist:list['symbols'], X:list['symbols']):\n",
    "    r = sum([crist[i][k][m]*crist[m][j][l] - \n",
    "             crist[i][l][m]*crist[m][k][j] \n",
    "             for m in range(len(X))])\n",
    "    return D(crist[i][j][l], X[k]) - D(crist[i][j][k], X[l]) + r\n",
    "\n",
    "#  calculating the Riemann curvature tensor\n",
    "def Riemann_tensor(crist:list[list[list['symbols']]],\n",
    "                   co_ord:list['symbols']):\n",
    "    r = [[[[R_i_jkl(i,j,k,l,crist,co_ord)\n",
    "            for l in range(len(co_ord))]\n",
    "            for k in range(len(co_ord))]\n",
    "            for j in range(len(co_ord))]\n",
    "            for i in range(len(co_ord))]\n",
    "    return r\n",
    "\n",
    "# calculating parallel transport of a vector\n",
    "def par_trans(crist: list[list[list['symbols']]],\n",
    "              co_ord:list['symbols'],\n",
    "             A:list['symbols']=None):\n",
    "    d = SY.Function('d')\n",
    "    if A is None:\n",
    "        A = [SY.Symbol(f'A^{i}')\n",
    "              for i in range(len(co_ord))]\n",
    "    pts = [sum([crist[i][j][k]*A[j]*d(co_ord[k]) \n",
    "           for k in range(len(co_ord))\n",
    "           for j in range(len(co_ord))])\n",
    "           for  i in range(len(crist))]\n",
    "    return pts\n",
    "\n",
    "# calculating geodesic equations\n",
    "def geodesics(crist:list[list[list['symbols']]],\n",
    "             co_ord:list['symbols'],\n",
    "             s:'SY.Symbol'= SY.Symbol('s')):\n",
    "    Der = SY.Derivative\n",
    "    eqs = [SY.Eq( Der(co_ord[i],s,2) + \n",
    "                sum([crist[i][j][k]*Der(co_ord[j],s)*Der(co_ord[k],s)\n",
    "                    for k in range(len(co_ord))\n",
    "                    for j in range(len(co_ord))]), 0)\n",
    "                    for i in range(len(co_ord))]\n",
    "    return eqs\n"
   ]
  },
  {
   "cell_type": "code",
   "execution_count": null,
   "metadata": {},
   "outputs": [],
   "source": [
    "#metric in 3d spherical\n",
    "#metric = SY.sympify('''d(r)**2 + r**2*d(theta)**2 +\n",
    "#                      (r*sin(theta))**2*d(phi)**2''')\n",
    "\n",
    "#metric in 4d cartesian\n",
    "metric = SY.sympify(\"r**2*d(theta)**2 +d(r)**2\")\n",
    "metric"
   ]
  },
  {
   "cell_type": "code",
   "execution_count": null,
   "metadata": {},
   "outputs": [],
   "source": [
    "var = sym_qsort(get_co_ords(metric)) # final order of co-ordinates\n",
    "n = len(var) # no. of co-ordinates\n",
    "n, var"
   ]
  },
  {
   "cell_type": "code",
   "execution_count": null,
   "metadata": {},
   "outputs": [],
   "source": [
    "# creating the covariant metric tensor\n",
    "g_cov = SY.Matrix(mtr_tns(metric, var))\n",
    "g_cov"
   ]
  },
  {
   "cell_type": "code",
   "execution_count": null,
   "metadata": {},
   "outputs": [],
   "source": [
    "# calculating the determinant of covariant metric\n",
    "g = SY.det(g_cov)\n",
    "g"
   ]
  },
  {
   "cell_type": "code",
   "execution_count": null,
   "metadata": {},
   "outputs": [],
   "source": [
    "# creating the contravariant metric tensor\n",
    "g_con = SY.Inverse(g_cov).doit()\n",
    "g_con"
   ]
  },
  {
   "cell_type": "code",
   "execution_count": null,
   "metadata": {},
   "outputs": [],
   "source": [
    "# showing the conjugacy of metric tensors\n",
    "g_con * g_cov"
   ]
  },
  {
   "cell_type": "code",
   "execution_count": null,
   "metadata": {},
   "outputs": [],
   "source": [
    "# creating the christoffel symbols\n",
    "christ = Christoffel(g_cov,g_con,var)\n",
    "christ"
   ]
  },
  {
   "cell_type": "code",
   "execution_count": null,
   "metadata": {},
   "outputs": [],
   "source": [
    "# creating the riemann curvature tensor\n",
    "Rieman = Riemann_tensor(christ, var)\n",
    "# printing the curvature tensor\n",
    "Rieman"
   ]
  },
  {
   "cell_type": "code",
   "execution_count": null,
   "metadata": {},
   "outputs": [],
   "source": [
    "par_trans(christ, var)"
   ]
  },
  {
   "cell_type": "code",
   "execution_count": null,
   "metadata": {},
   "outputs": [],
   "source": [
    "G = geodesics(christ, var)\n",
    "G"
   ]
  },
  {
   "cell_type": "code",
   "execution_count": 1,
   "metadata": {},
   "outputs": [],
   "source": [
    "import sympy as SY \n",
    "import numpy as np \n",
    "import matplotlib.pyplot as plt\n",
    "SY.init_printing()\n",
    "from GTR_script import GTR"
   ]
  },
  {
   "cell_type": "code",
   "execution_count": null,
   "metadata": {},
   "outputs": [],
   "source": [
    "gtr = GTR('-(1-(2*m)/x)*d(t)**2 + ((1-(2*m)/x)**-1)*d(x)**2 + x**2*d(y)**2 + (b*x*sin(y))**2*d(z)**2')"
   ]
  },
  {
   "cell_type": "code",
   "execution_count": 2,
   "metadata": {},
   "outputs": [],
   "source": [
    "gtr = GTR(\"(1-2*G*M/x)*d(t)**2 - (1-2*G*M/x)**(-1)*d(x)**2 - x**2*d(y)**2 - (x*sin(y))**2*d(z)**2\")"
   ]
  },
  {
   "cell_type": "code",
   "execution_count": null,
   "metadata": {},
   "outputs": [],
   "source": [
    "gtr = GTR(\"exp(v(t,x))*d(t)**2 - exp(l(t,x))*d(x)**2 - x**2*d(y)**2 - (x*sin(y))**2*d(z)**2\")"
   ]
  },
  {
   "cell_type": "code",
   "execution_count": null,
   "metadata": {},
   "outputs": [],
   "source": [
    "gtr = GTR(\"1/t**2*(d(t)**2 - d(x)**2)\")"
   ]
  },
  {
   "cell_type": "code",
   "execution_count": null,
   "metadata": {},
   "outputs": [],
   "source": [
    "gtr.g_cov"
   ]
  },
  {
   "cell_type": "code",
   "execution_count": 3,
   "metadata": {},
   "outputs": [
    {
     "data": {
      "image/png": "[encoded data removed]",
      "text/latex": [
       "$\\displaystyle \\left[ \\Gamma_{00}^{1} = \\frac{G M \\left(- 2 G M + x\\right)}{x^{3}}, \\  \\Gamma_{10}^{0} = \\frac{G M}{x \\left(- 2 G M + x\\right)}, \\  \\Gamma_{01}^{0} = \\frac{G M}{x \\left(- 2 G M + x\\right)}, \\  \\Gamma_{11}^{1} = \\frac{G M}{x \\left(2 G M - x\\right)}, \\  \\Gamma_{21}^{2} = \\frac{1}{x}, \\  \\Gamma_{31}^{3} = \\frac{1}{x}, \\  \\Gamma_{12}^{2} = \\frac{1}{x}, \\  \\Gamma_{22}^{1} = 2 G M - x, \\  \\Gamma_{32}^{3} = \\frac{1}{\\tan{\\left(y \\right)}}, \\  \\Gamma_{13}^{3} = \\frac{1}{x}, \\  \\Gamma_{23}^{3} = \\frac{1}{\\tan{\\left(y \\right)}}, \\  \\Gamma_{33}^{1} = \\left(2 G M - x\\right) \\sin^{2}{\\left(y \\right)}, \\  \\Gamma_{33}^{2} = - \\frac{\\sin{\\left(2 y \\right)}}{2}\\right]$"
      ],
      "text/plain": [
       "⎡   1   G⋅M⋅(-2⋅G⋅M + x)     0        G⋅M           0        G⋅M           1  \n",
       "⎢Γ₀₀  = ────────────────, Γ₁₀  = ──────────────, Γ₀₁  = ──────────────, Γ₁₁  =\n",
       "⎢               3                x⋅(-2⋅G⋅M + x)         x⋅(-2⋅G⋅M + x)        \n",
       "⎣              x                                                              \n",
       "\n",
       "      G⋅M          2   1     3   1     2   1     1                 3     1    \n",
       " ─────────────, Γ₂₁  = ─, Γ₃₁  = ─, Γ₁₂  = ─, Γ₂₂  = 2⋅G⋅M - x, Γ₃₂  = ──────,\n",
       " x⋅(2⋅G⋅M - x)         x         x         x                           tan(y) \n",
       "                                                                              \n",
       "\n",
       "    3   1     3     1        1                  2        2   -sin(2⋅y) ⎤\n",
       " Γ₁₃  = ─, Γ₂₃  = ──────, Γ₃₃  = (2⋅G⋅M - x)⋅sin (y), Γ₃₃  = ──────────⎥\n",
       "        x         tan(y)                                         2     ⎥\n",
       "                                                                       ⎦"
      ]
     },
     "execution_count": 3,
     "metadata": {},
     "output_type": "execute_result"
    }
   ],
   "source": [
    "gtr.only_christ"
   ]
  },
  {
   "cell_type": "code",
   "execution_count": null,
   "metadata": {},
   "outputs": [],
   "source": [
    "gtr.rieman"
   ]
  },
  {
   "cell_type": "code",
   "execution_count": 4,
   "metadata": {},
   "outputs": [
    {
     "data": {
      "image/png": "[encoded data removed]",
      "text/latex": [
       "$\\displaystyle ds^{2} = - x^{2} d^{2}{\\left(y \\right)} - x^{2} d^{2}{\\left(z \\right)} \\sin^{2}{\\left(y \\right)} + \\left(- \\frac{2 G M}{x} + 1\\right) d^{2}{\\left(t \\right)} - \\frac{d^{2}{\\left(x \\right)}}{- \\frac{2 G M}{x} + 1}$"
      ],
      "text/plain": [
       "                                                                2      \n",
       "  2      2  2       2  2       2      ⎛  2⋅G⋅M    ⎞  2         d (x)   \n",
       "ds  = - x ⋅d (y) - x ⋅d (z)⋅sin (y) + ⎜- ───── + 1⎟⋅d (t) - ───────────\n",
       "                                      ⎝    x      ⎠           2⋅G⋅M    \n",
       "                                                            - ───── + 1\n",
       "                                                                x      "
      ]
     },
     "execution_count": 4,
     "metadata": {},
     "output_type": "execute_result"
    }
   ],
   "source": [
    "gtr.ds2"
   ]
  },
  {
   "cell_type": "code",
   "execution_count": 3,
   "metadata": {},
   "outputs": [
    {
     "data": {
      "image/png": "[encoded data removed]",
      "text/latex": [
       "$\\displaystyle - x^{2} d^{2}{\\left(y \\right)} - x^{2} d^{2}{\\left(z \\right)} \\sin^{2}{\\left(y \\right)} + \\left(- \\frac{2 G M}{x} + 1\\right) d^{2}{\\left(t \\right)} - \\frac{d^{2}{\\left(x \\right)}}{- \\frac{2 G M}{x} + 1}$"
      ],
      "text/plain": [
       "                                                          2      \n",
       "   2  2       2  2       2      ⎛  2⋅G⋅M    ⎞  2         d (x)   \n",
       "- x ⋅d (y) - x ⋅d (z)⋅sin (y) + ⎜- ───── + 1⎟⋅d (t) - ───────────\n",
       "                                ⎝    x      ⎠           2⋅G⋅M    \n",
       "                                                      - ───── + 1\n",
       "                                                          x      "
      ]
     },
     "execution_count": 3,
     "metadata": {},
     "output_type": "execute_result"
    }
   ],
   "source": [
    "gtr.metric"
   ]
  },
  {
   "cell_type": "code",
   "execution_count": null,
   "metadata": {},
   "outputs": [],
   "source": [
    "gtr.christ"
   ]
  },
  {
   "cell_type": "code",
   "execution_count": null,
   "metadata": {},
   "outputs": [],
   "source": [
    "gtr.Ricci"
   ]
  },
  {
   "cell_type": "code",
   "execution_count": null,
   "metadata": {},
   "outputs": [],
   "source": [
    "gtr.g_con"
   ]
  },
  {
   "cell_type": "code",
   "execution_count": null,
   "metadata": {},
   "outputs": [],
   "source": [
    "gtr.R"
   ]
  },
  {
   "cell_type": "code",
   "execution_count": null,
   "metadata": {},
   "outputs": [],
   "source": [
    "gtr.parallel"
   ]
  },
  {
   "cell_type": "code",
   "execution_count": null,
   "metadata": {},
   "outputs": [],
   "source": [
    "eqn = gtr.geo_eq\n",
    "eqn"
   ]
  },
  {
   "cell_type": "code",
   "execution_count": null,
   "metadata": {},
   "outputs": [],
   "source": [
    "gtr.G_ij"
   ]
  },
  {
   "cell_type": "markdown",
   "metadata": {},
   "source": [
    "## Finding general way to solve geodesic"
   ]
  },
  {
   "cell_type": "code",
   "execution_count": null,
   "metadata": {},
   "outputs": [],
   "source": [
    "gtr.soln"
   ]
  },
  {
   "cell_type": "code",
   "execution_count": null,
   "metadata": {},
   "outputs": [],
   "source": [
    "s = SY.Symbol(\"s\")\n",
    "smbl = [SY.Derivative(c,s,n) for c in gtr.co_ords for n in range(gtr.dimension + 1)]\n",
    "smbl.append(s)\n",
    "smbl"
   ]
  },
  {
   "cell_type": "code",
   "execution_count": null,
   "metadata": {},
   "outputs": [],
   "source": [
    "F = SY.lambdify(smbl, eqn[0].lhs)"
   ]
  },
  {
   "cell_type": "code",
   "execution_count": null,
   "metadata": {},
   "outputs": [],
   "source": [
    "F"
   ]
  },
  {
   "cell_type": "code",
   "execution_count": null,
   "metadata": {},
   "outputs": [],
   "source": [
    "F(2,2,10,0,2,0,3)"
   ]
  },
  {
   "cell_type": "code",
   "execution_count": null,
   "metadata": {},
   "outputs": [],
   "source": [
    "gtr.metric"
   ]
  },
  {
   "cell_type": "code",
   "execution_count": null,
   "metadata": {},
   "outputs": [],
   "source": [
    "gtr.co_ords"
   ]
  },
  {
   "cell_type": "code",
   "execution_count": null,
   "metadata": {},
   "outputs": [],
   "source": [
    "gtr.only_rieman"
   ]
  },
  {
   "cell_type": "code",
   "execution_count": null,
   "metadata": {},
   "outputs": [],
   "source": []
  },
  {
   "cell_type": "markdown",
   "metadata": {},
   "source": [
    "## Storing the expressions"
   ]
  },
  {
   "cell_type": "code",
   "execution_count": 5,
   "metadata": {},
   "outputs": [],
   "source": [
    "out_file = open(\"expr.txt\",\"w\")\n",
    "out_file.write(SY.latex(gtr.metric)+\"\\n\\n\")\n",
    "out_file.write(SY.latex(gtr.ds2))\n",
    "out_file.close()"
   ]
  },
  {
   "cell_type": "code",
   "execution_count": null,
   "metadata": {},
   "outputs": [],
   "source": [
    "i,j,k,l = 0,1,2,0\n",
    "smbl_nm = \"Omega\"\n",
    "SY.S(f\"{smbl_nm}_{i}{j}{k}^{l}\", evaluate=False)"
   ]
  }
 ],
 "metadata": {
  "kernelspec": {
   "display_name": "Python 3",
   "language": "python",
   "name": "python3"
  },
  "language_info": {
   "codemirror_mode": {
    "name": "ipython",
    "version": 3
   },
   "file_extension": ".py",
   "mimetype": "text/x-python",
   "name": "python",
   "nbconvert_exporter": "python",
   "pygments_lexer": "ipython3",
   "version": "3.11.4"
  }
 },
 "nbformat": 4,
 "nbformat_minor": 2
}
